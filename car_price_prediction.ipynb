import pandas as pd
import numpy as np
import seaborn as sns
import matplotlib.pyplot as plt
from sklearn.model_selection import train_test_split
from sklearn.ensemble import RandomForestRegressor
from sklearn.linear_model import LinearRegression
from sklearn.metrics import r2_score, mean_absolute_error
import xgboost as xgb

# Load dataset
df = pd.read_csv('car_data.csv')

# Preprocess
df['Current_Year'] = 2025
df['Car_Age'] = df['Current_Year'] - df['Year']
df.drop(['Year', 'Car_Name', 'Current_Year'], axis=1, inplace=True)
df = pd.get_dummies(df, drop_first=True)

# Split
X = df.drop('Selling_Price', axis=1)
y = df['Selling_Price']
X_train, X_test, y_train, y_test = train_test_split(X, y, test_size=0.2, random_state=42)

# Train Model
rf = RandomForestRegressor()
rf.fit(X_train, y_train)
y_pred = rf.predict(X_test)

# Evaluate
print("R² Score:", r2_score(y_test, y_pred))
print("MAE:", mean_absolute_error(y_test, y_pred))

# Feature Importance
sns.barplot(x=rf.feature_importances_, y=X.columns)
plt.title("Feature Importance")
plt.xticks(rotation=45)
plt.show()
